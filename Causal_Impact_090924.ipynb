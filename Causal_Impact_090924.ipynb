{
  "nbformat": 4,
  "nbformat_minor": 0,
  "metadata": {
    "colab": {
      "provenance": [],
      "authorship_tag": "ABX9TyMe5MRwR+tERoFKILLCwh4+",
      "include_colab_link": true
    },
    "kernelspec": {
      "name": "python3",
      "display_name": "Python 3"
    },
    "language_info": {
      "name": "python"
    }
  },
  "cells": [
    {
      "cell_type": "markdown",
      "metadata": {
        "id": "view-in-github",
        "colab_type": "text"
      },
      "source": [
        "<a href=\"https://colab.research.google.com/github/Bborub/bk-bridge-pedestrian/blob/main/Causal_Impact_090924.ipynb\" target=\"_parent\"><img src=\"https://colab.research.google.com/assets/colab-badge.svg\" alt=\"Open In Colab\"/></a>"
      ]
    },
    {
      "cell_type": "markdown",
      "source": [
        "https://github.com/WillianFuks/tfcausalimpact"
      ],
      "metadata": {
        "id": "GOi5BZL4-H1w"
      }
    },
    {
      "cell_type": "markdown",
      "source": [
        "https://www.youtube.com/watch?v=86IEGJI1BlU&list=PL9tfycxW7AffLLlbNpEWBElq2pi7CN4Ih"
      ],
      "metadata": {
        "id": "-JfLAI7K6yi4"
      }
    },
    {
      "cell_type": "markdown",
      "source": [
        "https://www.youtube.com/watch?v=fX2yCP5zJVA&t=890s"
      ],
      "metadata": {
        "id": "KHmaCg6u-MOI"
      }
    },
    {
      "cell_type": "markdown",
      "source": [
        "***Chat with Gemini:***\n",
        "\n",
        "how can I calculate casual impact of Elon Musk smoking pot on live radio on the share price of TSLA\n",
        "\n",
        "Gemini\n",
        "You can use the CausalImpact package in R to estimate the causal impact of Elon Musk smoking pot on live radio on the share price of TSLA.\n",
        "\n",
        "First install the package with install.packages('CausalImpact').\n",
        "\n",
        "Load the package with\n",
        "\n",
        "\n",
        "library(CausalImpact)\n",
        "Use code with caution\n",
        "You will first need to get the historical data of the TSLA share price and a control time series.\n",
        "\n",
        "The control time series should be a similar stock that was not affected by the event.\n",
        "\n",
        "Next, create a data frame with the TSLA share price and the control time series.\n",
        "\n",
        "The data frame should have two columns: the date and the value.\n",
        "\n",
        "Then, create a CausalImpact object.\n",
        "\n",
        "The CausalImpact object takes three arguments:\n",
        "\n",
        "data: The data frame with the time series data.\n",
        "pre.period: The start and end dates of the pre-intervention period.\n",
        "post.period: The start and end dates of the post-intervention period.\n",
        "For example:\n",
        "\n",
        "\n",
        "impact <- CausalImpact(data, pre.period = c(2018, 1, 1), post.period = c(2018, 9, 6))\n",
        "Use code with caution\n",
        "Finally, plot the results using:\n",
        "\n",
        "\n",
        "plot(impact)\n",
        "Use code with caution\n",
        "This might be slightly inaccurate, but try the following:\n",
        "\n",
        "You can also click the \"Connect\" button in the toolbar to connect to a hosted runtime.\n",
        "\n",
        "Then click \"Connect to managed runtime\".\n",
        "\n",
        "Now you can run R code in your notebook.\n",
        "\n",
        "Rate this answer\n",
        "\n",
        "Brian Boru\n",
        "can I do this in python **bold text** ***bold text***\n",
        "\n",
        "Gemini\n",
        "Yes, you can use the pycausalimpact package in Python.\n",
        "\n",
        "First install the package with\n",
        "\n",
        "\n",
        "!pip install pycausalimpact\n",
        "Use code with caution\n",
        "Then import the package with\n",
        "\n",
        "\n",
        "from causalimpact import CausalImpact\n",
        "Use code with caution\n",
        "You will need to get the historical data of the TSLA share price and a control time series.\n",
        "\n",
        "The control time series should be a similar stock that was not affected by the event.\n",
        "\n",
        "Next, create a data frame with the TSLA share price and the control time series.\n",
        "\n",
        "The data frame should have two columns: the date and the value.\n",
        "\n",
        "Then, create a CausalImpact object.\n",
        "\n",
        "The CausalImpact object takes three arguments:\n",
        "\n",
        "data: The data frame with the time series data.\n",
        "pre_period: The start and end dates of the pre-intervention period.\n",
        "post_period: The start and end dates of the post-intervention period.\n",
        "For example:\n",
        "\n",
        "\n",
        "impact = CausalImpact(data, pre_period, post_period)\n",
        "Use code with caution\n",
        "Finally, plot the results using\n",
        "\n",
        "\n",
        "impact.plot()\n",
        "Use code with caution\n",
        "Sources\n",
        "pypi.org/project/pycausalimpact/\n",
        "github.com/google/tfp-causalimpact\n",
        "pypi.org/project/causalimpact/\n",
        "github.com/WillianFuks/tfcausalimpact\n",
        "medium.com/@mrmaster907/how-to-use-causal-impact-in-python-example-18d27623e896"
      ],
      "metadata": {
        "id": "nR-MXa8c2RWM"
      }
    },
    {
      "cell_type": "markdown",
      "source": [
        "# New Section\n",
        "\n",
        "Can I use this for other events, such as the effect of interest rate changes on certain stock prices\n",
        "\n",
        "Gemini\n",
        "Yes, you can use the CausalImpact package to estimate the causal effect of other events on time series data, such as the effect of interest rate changes on certain stock prices.\n",
        "\n",
        "Get the historical data of the stock price and a control time series.\n",
        "\n",
        "The control time series should be a similar stock that was not affected by the event.\n",
        "\n",
        "Create a data frame with the stock price and the control time series.\n",
        "\n",
        "The data frame should have two columns: the date and the value.\n",
        "\n",
        "Create a CausalImpact object.\n",
        "\n",
        "The CausalImpact object takes three arguments:\n",
        "\n",
        "data: The data frame with the time series data.\n",
        "pre_period: The start and end dates of the pre-intervention period.\n",
        "post_period: The start and end dates of the post-intervention period.\n",
        "Plot the results using impact.plot().\n",
        "\n",
        "Sources\n",
        "erepository.uonbi.ac.ke/bitstream/handle/11295/74171/William_The%20Causal%20Relationship%20Between%20Stock%20Price%20And%20Interest%20Rates.pdf\n",
        "www.investopedia.com/investing/how-interest-rates-affect-stock-market/\n",
        "huntvalleywealth.com/how-interest-rates-impact-stock-prices/\n",
        "www.researchgate.net/publication/247905514_The_impact_of_interest_rate_changes_on_stock_price_volatility\n",
        "www.tandfonline.com/doi/full/10.1080/1331677X.2021.19666"
      ],
      "metadata": {
        "id": "85wBS1nl3G_c"
      }
    },
    {
      "cell_type": "markdown",
      "source": [],
      "metadata": {
        "id": "umwC879k3S9A"
      }
    },
    {
      "cell_type": "code",
      "execution_count": null,
      "metadata": {
        "id": "uk_9eHL6yxRT"
      },
      "outputs": [],
      "source": []
    }
  ]
}