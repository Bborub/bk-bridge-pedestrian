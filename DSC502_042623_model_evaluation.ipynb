{
  "cells": [
    {
      "cell_type": "markdown",
      "metadata": {
        "id": "view-in-github",
        "colab_type": "text"
      },
      "source": [
        "<a href=\"https://colab.research.google.com/github/Bborub/bk-bridge-pedestrian/blob/main/DSC502_042623_model_evaluation.ipynb\" target=\"_parent\"><img src=\"https://colab.research.google.com/assets/colab-badge.svg\" alt=\"Open In Colab\"/></a>"
      ]
    },
    {
      "cell_type": "markdown",
      "metadata": {
        "id": "05G1F7CRYW8e"
      },
      "source": [
        "# Model evaluation\n",
        "## Cross validation, learning curve, validation curve.\n"
      ]
    },
    {
      "cell_type": "code",
      "execution_count": null,
      "metadata": {
        "id": "WPan0gLYYW8i"
      },
      "outputs": [],
      "source": [
        "import pandas as pd\n",
        "import numpy as np\n",
        "\n",
        "from sklearn.model_selection import train_test_split\n",
        "from sklearn.metrics import confusion_matrix\n",
        "from sklearn.tree import DecisionTreeClassifier"
      ]
    },
    {
      "cell_type": "markdown",
      "metadata": {
        "id": "oxJx9IEkYW8j"
      },
      "source": [
        "## Consider the diabetes dataset again"
      ]
    },
    {
      "cell_type": "code",
      "execution_count": null,
      "metadata": {
        "id": "vSL_flCiYW8j",
        "outputId": "51fb5b28-a99d-415b-8c93-40f7c2f0aabe",
        "colab": {
          "base_uri": "https://localhost:8080/",
          "height": 206
        }
      },
      "outputs": [
        {
          "output_type": "execute_result",
          "data": {
            "text/plain": [
              "   Pregnancies  Glucose  BloodPressure  SkinThickness  Insulin   BMI  \\\n",
              "0            6      148             72             35        0  33.6   \n",
              "1            1       85             66             29        0  26.6   \n",
              "2            8      183             64              0        0  23.3   \n",
              "3            1       89             66             23       94  28.1   \n",
              "4            0      137             40             35      168  43.1   \n",
              "\n",
              "   DiabetesPedigreeFunction  Age  Outcome  \n",
              "0                     0.627   50        1  \n",
              "1                     0.351   31        0  \n",
              "2                     0.672   32        1  \n",
              "3                     0.167   21        0  \n",
              "4                     2.288   33        1  "
            ],
            "text/html": [
              "\n",
              "  <div id=\"df-9d8db780-f622-462c-b488-ab43a1fd3df1\">\n",
              "    <div class=\"colab-df-container\">\n",
              "      <div>\n",
              "<style scoped>\n",
              "    .dataframe tbody tr th:only-of-type {\n",
              "        vertical-align: middle;\n",
              "    }\n",
              "\n",
              "    .dataframe tbody tr th {\n",
              "        vertical-align: top;\n",
              "    }\n",
              "\n",
              "    .dataframe thead th {\n",
              "        text-align: right;\n",
              "    }\n",
              "</style>\n",
              "<table border=\"1\" class=\"dataframe\">\n",
              "  <thead>\n",
              "    <tr style=\"text-align: right;\">\n",
              "      <th></th>\n",
              "      <th>Pregnancies</th>\n",
              "      <th>Glucose</th>\n",
              "      <th>BloodPressure</th>\n",
              "      <th>SkinThickness</th>\n",
              "      <th>Insulin</th>\n",
              "      <th>BMI</th>\n",
              "      <th>DiabetesPedigreeFunction</th>\n",
              "      <th>Age</th>\n",
              "      <th>Outcome</th>\n",
              "    </tr>\n",
              "  </thead>\n",
              "  <tbody>\n",
              "    <tr>\n",
              "      <th>0</th>\n",
              "      <td>6</td>\n",
              "      <td>148</td>\n",
              "      <td>72</td>\n",
              "      <td>35</td>\n",
              "      <td>0</td>\n",
              "      <td>33.6</td>\n",
              "      <td>0.627</td>\n",
              "      <td>50</td>\n",
              "      <td>1</td>\n",
              "    </tr>\n",
              "    <tr>\n",
              "      <th>1</th>\n",
              "      <td>1</td>\n",
              "      <td>85</td>\n",
              "      <td>66</td>\n",
              "      <td>29</td>\n",
              "      <td>0</td>\n",
              "      <td>26.6</td>\n",
              "      <td>0.351</td>\n",
              "      <td>31</td>\n",
              "      <td>0</td>\n",
              "    </tr>\n",
              "    <tr>\n",
              "      <th>2</th>\n",
              "      <td>8</td>\n",
              "      <td>183</td>\n",
              "      <td>64</td>\n",
              "      <td>0</td>\n",
              "      <td>0</td>\n",
              "      <td>23.3</td>\n",
              "      <td>0.672</td>\n",
              "      <td>32</td>\n",
              "      <td>1</td>\n",
              "    </tr>\n",
              "    <tr>\n",
              "      <th>3</th>\n",
              "      <td>1</td>\n",
              "      <td>89</td>\n",
              "      <td>66</td>\n",
              "      <td>23</td>\n",
              "      <td>94</td>\n",
              "      <td>28.1</td>\n",
              "      <td>0.167</td>\n",
              "      <td>21</td>\n",
              "      <td>0</td>\n",
              "    </tr>\n",
              "    <tr>\n",
              "      <th>4</th>\n",
              "      <td>0</td>\n",
              "      <td>137</td>\n",
              "      <td>40</td>\n",
              "      <td>35</td>\n",
              "      <td>168</td>\n",
              "      <td>43.1</td>\n",
              "      <td>2.288</td>\n",
              "      <td>33</td>\n",
              "      <td>1</td>\n",
              "    </tr>\n",
              "  </tbody>\n",
              "</table>\n",
              "</div>\n",
              "      <button class=\"colab-df-convert\" onclick=\"convertToInteractive('df-9d8db780-f622-462c-b488-ab43a1fd3df1')\"\n",
              "              title=\"Convert this dataframe to an interactive table.\"\n",
              "              style=\"display:none;\">\n",
              "        \n",
              "  <svg xmlns=\"http://www.w3.org/2000/svg\" height=\"24px\"viewBox=\"0 0 24 24\"\n",
              "       width=\"24px\">\n",
              "    <path d=\"M0 0h24v24H0V0z\" fill=\"none\"/>\n",
              "    <path d=\"M18.56 5.44l.94 2.06.94-2.06 2.06-.94-2.06-.94-.94-2.06-.94 2.06-2.06.94zm-11 1L8.5 8.5l.94-2.06 2.06-.94-2.06-.94L8.5 2.5l-.94 2.06-2.06.94zm10 10l.94 2.06.94-2.06 2.06-.94-2.06-.94-.94-2.06-.94 2.06-2.06.94z\"/><path d=\"M17.41 7.96l-1.37-1.37c-.4-.4-.92-.59-1.43-.59-.52 0-1.04.2-1.43.59L10.3 9.45l-7.72 7.72c-.78.78-.78 2.05 0 2.83L4 21.41c.39.39.9.59 1.41.59.51 0 1.02-.2 1.41-.59l7.78-7.78 2.81-2.81c.8-.78.8-2.07 0-2.86zM5.41 20L4 18.59l7.72-7.72 1.47 1.35L5.41 20z\"/>\n",
              "  </svg>\n",
              "      </button>\n",
              "      \n",
              "  <style>\n",
              "    .colab-df-container {\n",
              "      display:flex;\n",
              "      flex-wrap:wrap;\n",
              "      gap: 12px;\n",
              "    }\n",
              "\n",
              "    .colab-df-convert {\n",
              "      background-color: #E8F0FE;\n",
              "      border: none;\n",
              "      border-radius: 50%;\n",
              "      cursor: pointer;\n",
              "      display: none;\n",
              "      fill: #1967D2;\n",
              "      height: 32px;\n",
              "      padding: 0 0 0 0;\n",
              "      width: 32px;\n",
              "    }\n",
              "\n",
              "    .colab-df-convert:hover {\n",
              "      background-color: #E2EBFA;\n",
              "      box-shadow: 0px 1px 2px rgba(60, 64, 67, 0.3), 0px 1px 3px 1px rgba(60, 64, 67, 0.15);\n",
              "      fill: #174EA6;\n",
              "    }\n",
              "\n",
              "    [theme=dark] .colab-df-convert {\n",
              "      background-color: #3B4455;\n",
              "      fill: #D2E3FC;\n",
              "    }\n",
              "\n",
              "    [theme=dark] .colab-df-convert:hover {\n",
              "      background-color: #434B5C;\n",
              "      box-shadow: 0px 1px 3px 1px rgba(0, 0, 0, 0.15);\n",
              "      filter: drop-shadow(0px 1px 2px rgba(0, 0, 0, 0.3));\n",
              "      fill: #FFFFFF;\n",
              "    }\n",
              "  </style>\n",
              "\n",
              "      <script>\n",
              "        const buttonEl =\n",
              "          document.querySelector('#df-9d8db780-f622-462c-b488-ab43a1fd3df1 button.colab-df-convert');\n",
              "        buttonEl.style.display =\n",
              "          google.colab.kernel.accessAllowed ? 'block' : 'none';\n",
              "\n",
              "        async function convertToInteractive(key) {\n",
              "          const element = document.querySelector('#df-9d8db780-f622-462c-b488-ab43a1fd3df1');\n",
              "          const dataTable =\n",
              "            await google.colab.kernel.invokeFunction('convertToInteractive',\n",
              "                                                     [key], {});\n",
              "          if (!dataTable) return;\n",
              "\n",
              "          const docLinkHtml = 'Like what you see? Visit the ' +\n",
              "            '<a target=\"_blank\" href=https://colab.research.google.com/notebooks/data_table.ipynb>data table notebook</a>'\n",
              "            + ' to learn more about interactive tables.';\n",
              "          element.innerHTML = '';\n",
              "          dataTable['output_type'] = 'display_data';\n",
              "          await google.colab.output.renderOutput(dataTable, element);\n",
              "          const docLink = document.createElement('div');\n",
              "          docLink.innerHTML = docLinkHtml;\n",
              "          element.appendChild(docLink);\n",
              "        }\n",
              "      </script>\n",
              "    </div>\n",
              "  </div>\n",
              "  "
            ]
          },
          "metadata": {},
          "execution_count": 2
        }
      ],
      "source": [
        "df = pd.read_csv('https://storage.googleapis.com/scsu-data-science/diabetes.csv')\n",
        "df.head()"
      ]
    },
    {
      "cell_type": "code",
      "execution_count": null,
      "metadata": {
        "id": "MB0BF0_iYW8k",
        "outputId": "fb1b94ab-31e5-41ee-e3ef-b8d20f3ce6c3",
        "colab": {
          "base_uri": "https://localhost:8080/",
          "height": 206
        }
      },
      "outputs": [
        {
          "output_type": "execute_result",
          "data": {
            "text/plain": [
              "   Pregnancies  Glucose  BloodPressure  SkinThickness     Insulin   BMI  \\\n",
              "0            6    148.0           72.0       35.00000  155.548223  33.6   \n",
              "1            1     85.0           66.0       29.00000  155.548223  26.6   \n",
              "2            8    183.0           64.0       29.15342  155.548223  23.3   \n",
              "3            1     89.0           66.0       23.00000   94.000000  28.1   \n",
              "4            0    137.0           40.0       35.00000  168.000000  43.1   \n",
              "\n",
              "   DiabetesPedigreeFunction  Age  Outcome  \n",
              "0                     0.627   50        1  \n",
              "1                     0.351   31        0  \n",
              "2                     0.672   32        1  \n",
              "3                     0.167   21        0  \n",
              "4                     2.288   33        1  "
            ],
            "text/html": [
              "\n",
              "  <div id=\"df-f94f60be-dc2f-4c26-85ab-3839167b2f2a\">\n",
              "    <div class=\"colab-df-container\">\n",
              "      <div>\n",
              "<style scoped>\n",
              "    .dataframe tbody tr th:only-of-type {\n",
              "        vertical-align: middle;\n",
              "    }\n",
              "\n",
              "    .dataframe tbody tr th {\n",
              "        vertical-align: top;\n",
              "    }\n",
              "\n",
              "    .dataframe thead th {\n",
              "        text-align: right;\n",
              "    }\n",
              "</style>\n",
              "<table border=\"1\" class=\"dataframe\">\n",
              "  <thead>\n",
              "    <tr style=\"text-align: right;\">\n",
              "      <th></th>\n",
              "      <th>Pregnancies</th>\n",
              "      <th>Glucose</th>\n",
              "      <th>BloodPressure</th>\n",
              "      <th>SkinThickness</th>\n",
              "      <th>Insulin</th>\n",
              "      <th>BMI</th>\n",
              "      <th>DiabetesPedigreeFunction</th>\n",
              "      <th>Age</th>\n",
              "      <th>Outcome</th>\n",
              "    </tr>\n",
              "  </thead>\n",
              "  <tbody>\n",
              "    <tr>\n",
              "      <th>0</th>\n",
              "      <td>6</td>\n",
              "      <td>148.0</td>\n",
              "      <td>72.0</td>\n",
              "      <td>35.00000</td>\n",
              "      <td>155.548223</td>\n",
              "      <td>33.6</td>\n",
              "      <td>0.627</td>\n",
              "      <td>50</td>\n",
              "      <td>1</td>\n",
              "    </tr>\n",
              "    <tr>\n",
              "      <th>1</th>\n",
              "      <td>1</td>\n",
              "      <td>85.0</td>\n",
              "      <td>66.0</td>\n",
              "      <td>29.00000</td>\n",
              "      <td>155.548223</td>\n",
              "      <td>26.6</td>\n",
              "      <td>0.351</td>\n",
              "      <td>31</td>\n",
              "      <td>0</td>\n",
              "    </tr>\n",
              "    <tr>\n",
              "      <th>2</th>\n",
              "      <td>8</td>\n",
              "      <td>183.0</td>\n",
              "      <td>64.0</td>\n",
              "      <td>29.15342</td>\n",
              "      <td>155.548223</td>\n",
              "      <td>23.3</td>\n",
              "      <td>0.672</td>\n",
              "      <td>32</td>\n",
              "      <td>1</td>\n",
              "    </tr>\n",
              "    <tr>\n",
              "      <th>3</th>\n",
              "      <td>1</td>\n",
              "      <td>89.0</td>\n",
              "      <td>66.0</td>\n",
              "      <td>23.00000</td>\n",
              "      <td>94.000000</td>\n",
              "      <td>28.1</td>\n",
              "      <td>0.167</td>\n",
              "      <td>21</td>\n",
              "      <td>0</td>\n",
              "    </tr>\n",
              "    <tr>\n",
              "      <th>4</th>\n",
              "      <td>0</td>\n",
              "      <td>137.0</td>\n",
              "      <td>40.0</td>\n",
              "      <td>35.00000</td>\n",
              "      <td>168.000000</td>\n",
              "      <td>43.1</td>\n",
              "      <td>2.288</td>\n",
              "      <td>33</td>\n",
              "      <td>1</td>\n",
              "    </tr>\n",
              "  </tbody>\n",
              "</table>\n",
              "</div>\n",
              "      <button class=\"colab-df-convert\" onclick=\"convertToInteractive('df-f94f60be-dc2f-4c26-85ab-3839167b2f2a')\"\n",
              "              title=\"Convert this dataframe to an interactive table.\"\n",
              "              style=\"display:none;\">\n",
              "        \n",
              "  <svg xmlns=\"http://www.w3.org/2000/svg\" height=\"24px\"viewBox=\"0 0 24 24\"\n",
              "       width=\"24px\">\n",
              "    <path d=\"M0 0h24v24H0V0z\" fill=\"none\"/>\n",
              "    <path d=\"M18.56 5.44l.94 2.06.94-2.06 2.06-.94-2.06-.94-.94-2.06-.94 2.06-2.06.94zm-11 1L8.5 8.5l.94-2.06 2.06-.94-2.06-.94L8.5 2.5l-.94 2.06-2.06.94zm10 10l.94 2.06.94-2.06 2.06-.94-2.06-.94-.94-2.06-.94 2.06-2.06.94z\"/><path d=\"M17.41 7.96l-1.37-1.37c-.4-.4-.92-.59-1.43-.59-.52 0-1.04.2-1.43.59L10.3 9.45l-7.72 7.72c-.78.78-.78 2.05 0 2.83L4 21.41c.39.39.9.59 1.41.59.51 0 1.02-.2 1.41-.59l7.78-7.78 2.81-2.81c.8-.78.8-2.07 0-2.86zM5.41 20L4 18.59l7.72-7.72 1.47 1.35L5.41 20z\"/>\n",
              "  </svg>\n",
              "      </button>\n",
              "      \n",
              "  <style>\n",
              "    .colab-df-container {\n",
              "      display:flex;\n",
              "      flex-wrap:wrap;\n",
              "      gap: 12px;\n",
              "    }\n",
              "\n",
              "    .colab-df-convert {\n",
              "      background-color: #E8F0FE;\n",
              "      border: none;\n",
              "      border-radius: 50%;\n",
              "      cursor: pointer;\n",
              "      display: none;\n",
              "      fill: #1967D2;\n",
              "      height: 32px;\n",
              "      padding: 0 0 0 0;\n",
              "      width: 32px;\n",
              "    }\n",
              "\n",
              "    .colab-df-convert:hover {\n",
              "      background-color: #E2EBFA;\n",
              "      box-shadow: 0px 1px 2px rgba(60, 64, 67, 0.3), 0px 1px 3px 1px rgba(60, 64, 67, 0.15);\n",
              "      fill: #174EA6;\n",
              "    }\n",
              "\n",
              "    [theme=dark] .colab-df-convert {\n",
              "      background-color: #3B4455;\n",
              "      fill: #D2E3FC;\n",
              "    }\n",
              "\n",
              "    [theme=dark] .colab-df-convert:hover {\n",
              "      background-color: #434B5C;\n",
              "      box-shadow: 0px 1px 3px 1px rgba(0, 0, 0, 0.15);\n",
              "      filter: drop-shadow(0px 1px 2px rgba(0, 0, 0, 0.3));\n",
              "      fill: #FFFFFF;\n",
              "    }\n",
              "  </style>\n",
              "\n",
              "      <script>\n",
              "        const buttonEl =\n",
              "          document.querySelector('#df-f94f60be-dc2f-4c26-85ab-3839167b2f2a button.colab-df-convert');\n",
              "        buttonEl.style.display =\n",
              "          google.colab.kernel.accessAllowed ? 'block' : 'none';\n",
              "\n",
              "        async function convertToInteractive(key) {\n",
              "          const element = document.querySelector('#df-f94f60be-dc2f-4c26-85ab-3839167b2f2a');\n",
              "          const dataTable =\n",
              "            await google.colab.kernel.invokeFunction('convertToInteractive',\n",
              "                                                     [key], {});\n",
              "          if (!dataTable) return;\n",
              "\n",
              "          const docLinkHtml = 'Like what you see? Visit the ' +\n",
              "            '<a target=\"_blank\" href=https://colab.research.google.com/notebooks/data_table.ipynb>data table notebook</a>'\n",
              "            + ' to learn more about interactive tables.';\n",
              "          element.innerHTML = '';\n",
              "          dataTable['output_type'] = 'display_data';\n",
              "          await google.colab.output.renderOutput(dataTable, element);\n",
              "          const docLink = document.createElement('div');\n",
              "          docLink.innerHTML = docLinkHtml;\n",
              "          element.appendChild(docLink);\n",
              "        }\n",
              "      </script>\n",
              "    </div>\n",
              "  </div>\n",
              "  "
            ]
          },
          "metadata": {},
          "execution_count": 3
        }
      ],
      "source": [
        "# replace zeros or NaN with averages for the following columns:\n",
        "# Glucose, BloodPressure, SkinThickness, BMI, Insulin\n",
        "\n",
        "for col in ['Glucose', 'BloodPressure', 'SkinThickness', 'BMI', 'Insulin']:\n",
        "    df[col] = df[col].replace(0, np.NaN)\n",
        "    mean = df[col].mean()\n",
        "    df[col] = df[col].replace(np.NaN, mean)\n",
        "    \n",
        "df.head()\n"
      ]
    },
    {
      "cell_type": "code",
      "execution_count": null,
      "metadata": {
        "id": "OGjLVdhZYW8k",
        "outputId": "3893092b-161d-4058-fc26-edcd7c3106ae",
        "colab": {
          "base_uri": "https://localhost:8080/"
        }
      },
      "outputs": [
        {
          "output_type": "stream",
          "name": "stdout",
          "text": [
            "Test accuracy:  0.7467532467532467\n"
          ]
        }
      ],
      "source": [
        "# Define the X columns (independent variables) and y variable \n",
        "# (the label - what we want to predict)\n",
        "\n",
        "# First 8 columns\n",
        "X = df.iloc[:, 0:8]\n",
        "\n",
        "# Last column\n",
        "y = df.iloc[:, 8]\n",
        "\n",
        "# Generate the train and test sets\n",
        "X_train, X_test, y_train, y_test = train_test_split(\n",
        "    X, y, random_state=0, test_size = 0.2)\n",
        "\n",
        "tree_clf = DecisionTreeClassifier(criterion='entropy', random_state=0, max_depth=5)\n",
        "tree_clf.fit(X_train, y_train)\n",
        "y_pred = tree_clf.predict(X_test)\n",
        "print('Test accuracy: ', tree_clf.score(X_test, y_test))"
      ]
    },
    {
      "cell_type": "markdown",
      "metadata": {
        "id": "15Z2KvToYW8l"
      },
      "source": [
        "# Is model accuracy sensitive to initialization of test and training sets?"
      ]
    },
    {
      "cell_type": "code",
      "execution_count": null,
      "metadata": {
        "id": "PmiCJBZFYW8l",
        "outputId": "ebd9761a-2de1-4ace-dcc0-b6611bfb3b90",
        "colab": {
          "base_uri": "https://localhost:8080/"
        }
      },
      "outputs": [
        {
          "output_type": "stream",
          "name": "stdout",
          "text": [
            "Test accuracy for random state 5: 0.7337662337662337\n",
            "Test accuracy for random state 4: 0.7337662337662337\n",
            "Test accuracy for random state 3: 0.7207792207792207\n",
            "Test accuracy for random state 2: 0.7142857142857143\n",
            "Test accuracy for random state 1: 0.7922077922077922\n",
            "Test accuracy for random state 0: 0.7467532467532467\n"
          ]
        }
      ],
      "source": [
        "# Let's see how model accuracy change as we vary the seed of the random number \n",
        "# generator that is responsible for splitting the dataset into a training and \n",
        "# test set.  The training/test split is 80/20.    \n",
        "\n",
        "for rand_state in [5, 4, 3, 2, 1, 0]:\n",
        "    X_train, X_test, y_train, y_test = train_test_split(\n",
        "        X, y, random_state = rand_state, test_size = 0.2)\n",
        "\n",
        "    tree_clf = DecisionTreeClassifier(criterion='entropy', max_depth=5, random_state = rand_state)\n",
        "    tree_clf.fit(X_train, y_train)\n",
        "    y_pred = tree_clf.predict(X_test)\n",
        "    print('Test accuracy for random state {}: {}'.format(\n",
        "        rand_state, tree_clf.score(X_test, y_test)))"
      ]
    },
    {
      "cell_type": "markdown",
      "metadata": {
        "id": "rO8Zyh4MYW8m"
      },
      "source": [
        "# k-fold cross validation to obtain better estimate of model accuracy"
      ]
    },
    {
      "cell_type": "code",
      "execution_count": null,
      "metadata": {
        "id": "SRR6jPEOYW8m",
        "outputId": "1c68a961-81af-40a1-8c50-3e1fdaf5a70c",
        "colab": {
          "base_uri": "https://localhost:8080/"
        }
      },
      "outputs": [
        {
          "output_type": "stream",
          "name": "stdout",
          "text": [
            "CV accuracy scores for decision tree model:  [0.68831169 0.76623377 0.72727273 0.64935065 0.7012987  0.77922078\n",
            " 0.77922078 0.75324675 0.69736842 0.77631579]\n",
            "Mean CV accuracy score:  0.7317840054682161\n",
            "95% confidence interval for CV accuracy score: (0.6447202385717243, 0.8188477723647078)\n"
          ]
        }
      ],
      "source": [
        "# k-fold cross validation for decision tree model\n",
        "\n",
        "from sklearn.model_selection import cross_val_score\n",
        "from sklearn.model_selection import cross_validate\n",
        "\n",
        "scores = cross_val_score(estimator = tree_clf,\n",
        "                         X = X,\n",
        "                         y = y,\n",
        "                         cv = 10)\n",
        "\n",
        "print('CV accuracy scores for decision tree model: ', scores)\n",
        "print('Mean CV accuracy score: ', np.mean(scores))\n",
        "print('95% confidence interval for CV accuracy score: ({}, {})'.format(\n",
        "    np.mean(scores) - 2 * np.std(scores),\n",
        "    np.mean(scores) + 2 * np.std(scores)))"
      ]
    },
    {
      "cell_type": "markdown",
      "metadata": {
        "id": "8fM7xd7GYW8n"
      },
      "source": [
        "## Let's try a random forest model"
      ]
    },
    {
      "cell_type": "code",
      "execution_count": null,
      "metadata": {
        "id": "k_u1SXh_YW8n",
        "outputId": "f7529d42-a243-4129-b92d-eb7fb2e9d3ec",
        "colab": {
          "base_uri": "https://localhost:8080/"
        }
      },
      "outputs": [
        {
          "output_type": "stream",
          "name": "stdout",
          "text": [
            "Test accuracy:  0.8051948051948052\n"
          ]
        }
      ],
      "source": [
        "from sklearn.ensemble import RandomForestClassifier\n",
        "\n",
        "forest_model = RandomForestClassifier(n_estimators = 100, random_state = 0)\n",
        "forest_model.fit(X_train, y_train)\n",
        "y_pred = forest_model.predict(X_test)\n",
        "\n",
        "print('Test accuracy: ', forest_model.score(X_test, y_test))"
      ]
    },
    {
      "cell_type": "code",
      "execution_count": null,
      "metadata": {
        "id": "K34vXMpDYW8n",
        "outputId": "2cb78683-7ead-4bc5-ee7f-668275694dc3",
        "colab": {
          "base_uri": "https://localhost:8080/"
        }
      },
      "outputs": [
        {
          "output_type": "stream",
          "name": "stdout",
          "text": [
            "CV accuracy scores for random forest model:  [0.73376623 0.73376623 0.75974026 0.83660131 0.75163399]\n",
            "Mean CV accuracy score:  0.7631016042780748\n",
            "95% confidence interval for CV accuracy score: (0.6868591534308192, 0.8393440551253305)\n"
          ]
        }
      ],
      "source": [
        "# Let's try cross validation for the random forest model\n",
        "\n",
        "scores = cross_val_score(estimator = forest_model,\n",
        "                         X = X,\n",
        "                         y = y,\n",
        "                         cv = 5)\n",
        "\n",
        "print('CV accuracy scores for random forest model: ', scores)\n",
        "print('Mean CV accuracy score: ', np.mean(scores))\n",
        "print('95% confidence interval for CV accuracy score: ({}, {})'.format(\n",
        "    np.mean(scores) - 2 * np.std(scores),\n",
        "    np.mean(scores) + 2 * np.std(scores)))"
      ]
    },
    {
      "cell_type": "markdown",
      "metadata": {
        "id": "BUY3PoW0YW8o"
      },
      "source": [
        "# Which tree depth is best? "
      ]
    },
    {
      "cell_type": "code",
      "execution_count": null,
      "metadata": {
        "id": "nUQQOJK8YW8o",
        "outputId": "c94f8fe3-af56-468b-e929-432566508c7f",
        "colab": {
          "base_uri": "https://localhost:8080/"
        }
      },
      "outputs": [
        {
          "output_type": "stream",
          "name": "stdout",
          "text": [
            "Tree depth = 3, test accuracy: 0.737, 95% CI: (0.661, 0.813)\n",
            "\t    Training accuracy: 0.773\n",
            "Tree depth = 4, test accuracy: 0.729, 95% CI: (0.617, 0.841)\n",
            "\t    Training accuracy: 0.786\n",
            "Tree depth = 5, test accuracy: 0.734, 95% CI: (0.641, 0.828)\n",
            "\t    Training accuracy: 0.825\n",
            "Tree depth = 6, test accuracy: 0.744, 95% CI: (0.644, 0.843)\n",
            "\t    Training accuracy: 0.849\n",
            "Tree depth = 7, test accuracy: 0.730, 95% CI: (0.632, 0.829)\n",
            "\t    Training accuracy: 0.870\n",
            "Tree depth = 8, test accuracy: 0.736, 95% CI: (0.617, 0.855)\n",
            "\t    Training accuracy: 0.903\n",
            "Tree depth = 9, test accuracy: 0.712, 95% CI: (0.595, 0.829)\n",
            "\t    Training accuracy: 0.928\n",
            "Tree depth = 10, test accuracy: 0.715, 95% CI: (0.610, 0.820)\n",
            "\t    Training accuracy: 0.948\n",
            "Tree depth = 11, test accuracy: 0.708, 95% CI: (0.626, 0.790)\n",
            "\t    Training accuracy: 0.965\n",
            "Tree depth = 12, test accuracy: 0.716, 95% CI: (0.620, 0.812)\n",
            "\t    Training accuracy: 0.975\n",
            "Tree depth = 13, test accuracy: 0.720, 95% CI: (0.641, 0.799)\n",
            "\t    Training accuracy: 0.985\n",
            "Tree depth = 14, test accuracy: 0.711, 95% CI: (0.641, 0.781)\n",
            "\t    Training accuracy: 0.990\n",
            "Tree depth = 15, test accuracy: 0.710, 95% CI: (0.634, 0.785)\n",
            "\t    Training accuracy: 0.994\n"
          ]
        }
      ],
      "source": [
        "test_means = []\n",
        "test_stdev = []\n",
        "training_means = []\n",
        "tree_depths = list(range(3, 16))\n",
        "\n",
        "for tree_depth in tree_depths:\n",
        "    tree_clf = DecisionTreeClassifier(criterion='entropy', max_depth = tree_depth)\n",
        "    scores = cross_validate(estimator = tree_clf, \n",
        "                            X = X, \n",
        "                            y = y, \n",
        "                            cv = 10, \n",
        "                            return_train_score = True)\n",
        "    print('Tree depth = {}, test accuracy: {:.3f}, 95% CI: ({:.3f}, {:.3f})'.format(\n",
        "        tree_depth, \n",
        "        np.mean(scores['test_score']), \n",
        "        np.mean(scores['test_score']) - 2 * np.std(scores['test_score']), \n",
        "        np.mean(scores['test_score']) + 2 * np.std(scores['test_score'])))\n",
        "    print('\\t    Training accuracy: {:.3f}'.format(np.mean(scores['train_score'])))\n",
        "    test_means.append(np.mean(scores['test_score']))\n",
        "    test_stdev.append(np.std(scores['test_score']))\n",
        "    training_means.append(np.mean(scores['train_score']))\n",
        "    "
      ]
    },
    {
      "cell_type": "markdown",
      "metadata": {
        "id": "wyXUde-LYW8o"
      },
      "source": [
        "# Plot the results -- validation curve"
      ]
    },
    {
      "cell_type": "code",
      "execution_count": null,
      "metadata": {
        "id": "umvhfjATYW8o",
        "outputId": "2207d302-cf67-461a-8302-59838d60a36b",
        "colab": {
          "base_uri": "https://localhost:8080/",
          "height": 480
        }
      },
      "outputs": [
        {
          "output_type": "display_data",
          "data": {
            "text/plain": [
              "<Figure size 640x480 with 1 Axes>"
            ],
            "image/png": "[encoded data removed]"
          },
          "metadata": {}
        }
      ],
      "source": [
        "import matplotlib.pyplot as plt\n",
        "import seaborn as sns\n",
        "sns.set()\n",
        "\n",
        "plt.plot(tree_depths, test_means, 'r--', linewidth=3, label='Test accuracy')\n",
        "plt.plot(tree_depths, np.array(test_means) + 2 * np.array(test_stdev), \n",
        "         'r--', label='95% Conf. Int.')\n",
        "plt.plot(tree_depths, np.array(test_means) - 2 * np.array(test_stdev), 'r--')\n",
        "plt.plot(tree_depths, training_means, 'g-.', linewidth = 3, \n",
        "         label = 'Training accuracy')\n",
        "\n",
        "plt.xlabel('Tree depth')\n",
        "plt.ylabel('Accuracy')\n",
        "plt.title('Test vs Training Accuracy')\n",
        "plt.legend()\n",
        "plt.show()"
      ]
    },
    {
      "cell_type": "code",
      "execution_count": null,
      "metadata": {
        "id": "ggPcSH7wYW8o"
      },
      "outputs": [],
      "source": []
    },
    {
      "cell_type": "markdown",
      "metadata": {
        "id": "Jm6guZpjYW8o"
      },
      "source": [
        "# How does accuracy change as a function of dataset size?"
      ]
    },
    {
      "cell_type": "code",
      "execution_count": null,
      "metadata": {
        "id": "3rvh_8EZYW8p",
        "outputId": "93fa0218-570d-4751-d862-98e7e3c8e8ca",
        "colab": {
          "base_uri": "https://localhost:8080/"
        }
      },
      "outputs": [
        {
          "output_type": "stream",
          "name": "stderr",
          "text": [
            "/usr/local/lib/python3.9/dist-packages/sklearn/model_selection/_split.py:700: UserWarning: The least populated class in y has only 7 members, which is less than n_splits=10.\n",
            "  warnings.warn(\n"
          ]
        },
        {
          "output_type": "stream",
          "name": "stdout",
          "text": [
            "Sample size = 20, test accuracy: 0.550, 95% CI: (-0.281, 1.381)\n",
            "\t      Training accuracy: 1.000\n",
            "Sample size = 40, test accuracy: 0.800, 95% CI: (0.261, 1.339)\n",
            "\t      Training accuracy: 1.000\n",
            "Sample size = 60, test accuracy: 0.500, 95% CI: (0.006, 0.994)\n",
            "\t      Training accuracy: 0.996\n",
            "Sample size = 80, test accuracy: 0.637, 95% CI: (0.376, 0.899)\n",
            "\t      Training accuracy: 0.983\n",
            "Sample size = 100, test accuracy: 0.660, 95% CI: (0.500, 0.820)\n",
            "\t      Training accuracy: 0.957\n",
            "Sample size = 120, test accuracy: 0.625, 95% CI: (0.424, 0.826)\n",
            "\t      Training accuracy: 0.977\n",
            "Sample size = 140, test accuracy: 0.614, 95% CI: (0.400, 0.828)\n",
            "\t      Training accuracy: 0.948\n",
            "Sample size = 160, test accuracy: 0.681, 95% CI: (0.394, 0.969)\n",
            "\t      Training accuracy: 0.928\n",
            "Sample size = 180, test accuracy: 0.683, 95% CI: (0.518, 0.849)\n",
            "\t      Training accuracy: 0.928\n",
            "Sample size = 200, test accuracy: 0.715, 95% CI: (0.553, 0.877)\n",
            "\t      Training accuracy: 0.918\n",
            "Sample size = 220, test accuracy: 0.695, 95% CI: (0.500, 0.891)\n",
            "\t      Training accuracy: 0.903\n",
            "Sample size = 240, test accuracy: 0.683, 95% CI: (0.564, 0.802)\n",
            "\t      Training accuracy: 0.923\n",
            "Sample size = 260, test accuracy: 0.658, 95% CI: (0.510, 0.805)\n",
            "\t      Training accuracy: 0.916\n",
            "Sample size = 280, test accuracy: 0.650, 95% CI: (0.476, 0.824)\n",
            "\t      Training accuracy: 0.906\n",
            "Sample size = 300, test accuracy: 0.633, 95% CI: (0.549, 0.718)\n",
            "\t      Training accuracy: 0.894\n",
            "Sample size = 320, test accuracy: 0.703, 95% CI: (0.540, 0.867)\n",
            "\t      Training accuracy: 0.889\n",
            "Sample size = 340, test accuracy: 0.703, 95% CI: (0.576, 0.830)\n",
            "\t      Training accuracy: 0.878\n",
            "Sample size = 360, test accuracy: 0.725, 95% CI: (0.590, 0.860)\n",
            "\t      Training accuracy: 0.871\n",
            "Sample size = 380, test accuracy: 0.668, 95% CI: (0.568, 0.769)\n",
            "\t      Training accuracy: 0.886\n",
            "Sample size = 400, test accuracy: 0.625, 95% CI: (0.462, 0.788)\n",
            "\t      Training accuracy: 0.887\n"
          ]
        }
      ],
      "source": [
        "test_means = []\n",
        "test_stdev = []\n",
        "training_means = []\n",
        "sample_sizes = list(range(20, 401, 20))\n",
        "tree_depth = 8\n",
        "\n",
        "for sample_size in sample_sizes:\n",
        "    tree_clf = DecisionTreeClassifier(criterion='entropy', max_depth = tree_depth)\n",
        "    scores = cross_validate(estimator = tree_clf, \n",
        "                            X = X[:sample_size], \n",
        "                            y = y[:sample_size], \n",
        "                            cv = 10, \n",
        "                            return_train_score = True)\n",
        "    print('Sample size = {}, test accuracy: {:.3f}, 95% CI: ({:.3f}, {:.3f})'.format(\n",
        "        sample_size, \n",
        "        np.mean(scores['test_score']), \n",
        "        np.mean(scores['test_score']) - 2 * np.std(scores['test_score']), \n",
        "        np.mean(scores['test_score']) + 2 * np.std(scores['test_score'])))\n",
        "    print('\\t      Training accuracy: {:.3f}'.format(np.mean(scores['train_score'])))\n",
        "    test_means.append(np.mean(scores['test_score']))\n",
        "    test_stdev.append(np.std(scores['test_score']))\n",
        "    training_means.append(np.mean(scores['train_score']))"
      ]
    },
    {
      "cell_type": "markdown",
      "metadata": {
        "id": "mccMk7JDYW8p"
      },
      "source": [
        "# Plot the results -- Learning curve"
      ]
    },
    {
      "cell_type": "code",
      "execution_count": null,
      "metadata": {
        "id": "Y5OMFsj9YW8p",
        "outputId": "5c1745ff-3933-453c-e0a1-3e71eeb34da0",
        "colab": {
          "base_uri": "https://localhost:8080/",
          "height": 480
        }
      },
      "outputs": [
        {
          "output_type": "display_data",
          "data": {
            "text/plain": [
              "<Figure size 640x480 with 1 Axes>"
            ],
            "image/png": "[encoded data removed]"
          },
          "metadata": {}
        }
      ],
      "source": [
        "import matplotlib.pyplot as plt\n",
        "import seaborn as sns\n",
        "sns.set()\n",
        "\n",
        "plt.plot(sample_sizes, test_means, 'r-', linewidth=3, label='Test accuracy')\n",
        "plt.plot(sample_sizes, np.array(test_means) + 2 * np.array(test_stdev), \n",
        "         'r--', label='95% Conf. Int.')\n",
        "plt.plot(sample_sizes, np.array(test_means) - 2 * np.array(test_stdev), 'r--')\n",
        "plt.plot(sample_sizes, training_means, 'g-', linewidth = 3, \n",
        "         label = 'Training accuracy')\n",
        "\n",
        "plt.xlabel('Sample size')\n",
        "plt.ylabel('Accuracy')\n",
        "plt.title('Test vs Training Accuracy for tree depth = ' + str(tree_depth))\n",
        "plt.legend()\n",
        "plt.show()"
      ]
    },
    {
      "cell_type": "code",
      "execution_count": null,
      "metadata": {
        "id": "tLXHBauqYW8p"
      },
      "outputs": [],
      "source": []
    }
  ],
  "metadata": {
    "kernelspec": {
      "display_name": "Python 3",
      "language": "python",
      "name": "python3"
    },
    "language_info": {
      "codemirror_mode": {
        "name": "ipython",
        "version": 3
      },
      "file_extension": ".py",
      "mimetype": "text/x-python",
      "name": "python",
      "nbconvert_exporter": "python",
      "pygments_lexer": "ipython3",
      "version": "3.7.2"
    },
    "colab": {
      "provenance": [],
      "include_colab_link": true
    }
  },
  "nbformat": 4,
  "nbformat_minor": 0
}